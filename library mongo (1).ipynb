{
 "cells": [
  {
   "cell_type": "code",
   "execution_count": 14,
   "metadata": {},
   "outputs": [],
   "source": [
    "# package imports\n",
    "import pymongo\n",
    "from pymongo import MongoClient\n",
    "import pandas as pd\n",
    "import pprint"
   ]
  },
  {
   "cell_type": "code",
   "execution_count": 15,
   "metadata": {},
   "outputs": [],
   "source": [
    "# connect to client\n",
    "client = MongoClient('localhost', 27017)"
   ]
  },
  {
   "cell_type": "code",
   "execution_count": 16,
   "metadata": {},
   "outputs": [
    {
     "data": {
      "text/plain": [
       "MongoClient(host=['localhost:27017'], document_class=dict, tz_aware=False, connect=True)"
      ]
     },
     "execution_count": 16,
     "metadata": {},
     "output_type": "execute_result"
    }
   ],
   "source": [
    "# check client connection\n",
    "client"
   ]
  },
  {
   "cell_type": "code",
   "execution_count": 17,
   "metadata": {},
   "outputs": [],
   "source": [
    "# make database\n",
    "db = client.Library\n",
    "\n",
    "# make collections\n",
    "books_collection = db.Books\n",
    "authors_collection = db.Authors\n",
    "patrons_collection = db.Patrons\n",
    "loans_collection = db.Loans"
   ]
  },
  {
   "cell_type": "code",
   "execution_count": 18,
   "metadata": {},
   "outputs": [
    {
     "name": "stdout",
     "output_type": "stream",
     "text": [
      "{'Author_ID (Primary Key)': 14,\n",
      " 'First Name': 'Sandra',\n",
      " 'Last Name': 'Cisneros',\n",
      " 'Nationality': 'American',\n",
      " 'Undergraduate Degree?': True,\n",
      " '_id': ObjectId('6478c1743db2044a860ec426')}\n"
     ]
    }
   ],
   "source": [
    "# Finding document on Sandra Cisneros\n",
    "test_query = {'First Name': 'Sandra'}\n",
    "search_result = authors_collection.find(test_query)\n",
    "for element in search_result:\n",
    "    pprint.pprint(element)"
   ]
  },
  {
   "cell_type": "code",
   "execution_count": 21,
   "metadata": {},
   "outputs": [
    {
     "name": "stdout",
     "output_type": "stream",
     "text": [
      "{\"Author's First Name\": 'Joanne',\n",
      " \"Author's Last Name\": 'Rowling',\n",
      " 'Book_ID (Primary Key)': 0,\n",
      " 'Genre': 'Fantasy',\n",
      " 'ISBN-10': '1338878921',\n",
      " 'Lexile': '880',\n",
      " 'Pages': 223,\n",
      " 'Publisher': 'Bloomsbury',\n",
      " 'Rating': '4.5',\n",
      " 'Title': \"Harry Potter and the Sorcerer's Stone\",\n",
      " 'Year': 1997,\n",
      " '_id': ObjectId('6478c15f3db2044a860ec3e1')}\n",
      "{\"Author's First Name\": 'Joanne',\n",
      " \"Author's Last Name\": 'Rowling',\n",
      " 'Book_ID (Primary Key)': 1,\n",
      " 'Genre': 'Fantasy',\n",
      " 'ISBN-10': '1338878921',\n",
      " 'Lexile': '880',\n",
      " 'Pages': 223,\n",
      " 'Publisher': 'Bloomsbury',\n",
      " 'Rating': '4.5',\n",
      " 'Title': \"Harry Potter and the Sorcerer's Stone\",\n",
      " 'Year': 1997,\n",
      " '_id': ObjectId('6478c15f3db2044a860ec3e2')}\n",
      "{\"Author's First Name\": 'Joanne',\n",
      " \"Author's Last Name\": 'Rowling',\n",
      " 'Book_ID (Primary Key)': 2,\n",
      " 'Genre': 'Fantasy',\n",
      " 'ISBN-10': '1338878921',\n",
      " 'Lexile': '880',\n",
      " 'Pages': 223,\n",
      " 'Publisher': 'Bloomsbury',\n",
      " 'Rating': '4.5',\n",
      " 'Title': \"Harry Potter and the Sorcerer's Stone\",\n",
      " 'Year': 1997,\n",
      " '_id': ObjectId('6478c15f3db2044a860ec3e3')}\n",
      "{\"Author's First Name\": 'Joanne',\n",
      " \"Author's Last Name\": 'Rowling',\n",
      " 'Book_ID (Primary Key)': 3,\n",
      " 'Genre': 'Fantasy',\n",
      " 'ISBN-10': '439064872',\n",
      " 'Lexile': '940',\n",
      " 'Pages': 251,\n",
      " 'Publisher': 'Bloomsbury',\n",
      " 'Rating': '4.4',\n",
      " 'Title': 'Harry Potter and the Chamber of Secrets',\n",
      " 'Year': 1998,\n",
      " '_id': ObjectId('6478c15f3db2044a860ec3e4')}\n",
      "{\"Author's First Name\": 'Joanne',\n",
      " \"Author's Last Name\": 'Rowling',\n",
      " 'Book_ID (Primary Key)': 4,\n",
      " 'Genre': 'Fantasy',\n",
      " 'ISBN-10': '545582938',\n",
      " 'Lexile': '880',\n",
      " 'Pages': 317,\n",
      " 'Publisher': 'Bloomsbury',\n",
      " 'Rating': '4.6',\n",
      " 'Title': 'Harry Potter and the Prisoner of Azkaban',\n",
      " 'Year': 1999,\n",
      " '_id': ObjectId('6478c15f3db2044a860ec3e5')}\n",
      "{\"Author's First Name\": 'Joanne',\n",
      " \"Author's Last Name\": 'Rowling',\n",
      " 'Book_ID (Primary Key)': 5,\n",
      " 'Genre': 'Fantasy',\n",
      " 'ISBN-10': '545582938',\n",
      " 'Lexile': '880',\n",
      " 'Pages': 317,\n",
      " 'Publisher': 'Bloomsbury',\n",
      " 'Rating': '4.6',\n",
      " 'Title': 'Harry Potter and the Prisoner of Azkaban',\n",
      " 'Year': 1999,\n",
      " '_id': ObjectId('6478c15f3db2044a860ec3e6')}\n",
      "{\"Author's First Name\": 'Joanne',\n",
      " \"Author's Last Name\": 'Rowling',\n",
      " 'Book_ID (Primary Key)': 6,\n",
      " 'Genre': 'Fantasy',\n",
      " 'ISBN-10': '545582938',\n",
      " 'Lexile': '880',\n",
      " 'Pages': 317,\n",
      " 'Publisher': 'Bloomsbury',\n",
      " 'Rating': '4.6',\n",
      " 'Title': 'Harry Potter and the Prisoner of Azkaban',\n",
      " 'Year': 1999,\n",
      " '_id': ObjectId('6478c15f3db2044a860ec3e7')}\n",
      "{\"Author's First Name\": 'Joanne',\n",
      " \"Author's Last Name\": 'Rowling',\n",
      " 'Book_ID (Primary Key)': 7,\n",
      " 'Genre': 'Fantasy',\n",
      " 'ISBN-10': '1338878956',\n",
      " 'Lexile': '880',\n",
      " 'Pages': 636,\n",
      " 'Publisher': 'Bloomsbury',\n",
      " 'Rating': '4.6',\n",
      " 'Title': 'Harry Potter and the Goblet of Fire',\n",
      " 'Year': 2000,\n",
      " '_id': ObjectId('6478c15f3db2044a860ec3e8')}\n",
      "{\"Author's First Name\": 'Joanne',\n",
      " \"Author's Last Name\": 'Rowling',\n",
      " 'Book_ID (Primary Key)': 8,\n",
      " 'Genre': 'Fantasy',\n",
      " 'ISBN-10': '1338878956',\n",
      " 'Lexile': '880',\n",
      " 'Pages': 636,\n",
      " 'Publisher': 'Bloomsbury',\n",
      " 'Rating': '4.6',\n",
      " 'Title': 'Harry Potter and the Goblet of Fire',\n",
      " 'Year': 2000,\n",
      " '_id': ObjectId('6478c15f3db2044a860ec3e9')}\n",
      "{\"Author's First Name\": 'Joanne',\n",
      " \"Author's Last Name\": 'Rowling',\n",
      " 'Book_ID (Primary Key)': 9,\n",
      " 'Genre': 'Fantasy',\n",
      " 'ISBN-10': '0747551006 ',\n",
      " 'Lexile': '950',\n",
      " 'Pages': 766,\n",
      " 'Publisher': 'Bloomsbury',\n",
      " 'Rating': '4.13',\n",
      " 'Title': 'Harry Potter and the Order of the Phoenix',\n",
      " 'Year': 2003,\n",
      " '_id': ObjectId('6478c15f3db2044a860ec3ea')}\n",
      "{\"Author's First Name\": 'Joanne',\n",
      " \"Author's Last Name\": 'Rowling',\n",
      " 'Book_ID (Primary Key)': 10,\n",
      " 'Genre': 'Fantasy',\n",
      " 'ISBN-10': '0747551006 ',\n",
      " 'Lexile': '950',\n",
      " 'Pages': 766,\n",
      " 'Publisher': 'Bloomsbury',\n",
      " 'Rating': '4.13',\n",
      " 'Title': 'Harry Potter and the Order of the Phoenix',\n",
      " 'Year': 2003,\n",
      " '_id': ObjectId('6478c15f3db2044a860ec3eb')}\n",
      "{\"Author's First Name\": 'Joanne',\n",
      " \"Author's Last Name\": 'Rowling',\n",
      " 'Book_ID (Primary Key)': 11,\n",
      " 'Genre': 'Fantasy',\n",
      " 'ISBN-10': '0747551006 ',\n",
      " 'Lexile': '950',\n",
      " 'Pages': 766,\n",
      " 'Publisher': 'Bloomsbury',\n",
      " 'Rating': '4.13',\n",
      " 'Title': 'Harry Potter and the Order of the Phoenix',\n",
      " 'Year': 2003,\n",
      " '_id': ObjectId('6478c15f3db2044a860ec3ec')}\n",
      "{\"Author's First Name\": 'Joanne',\n",
      " \"Author's Last Name\": 'Rowling',\n",
      " 'Book_ID (Primary Key)': 12,\n",
      " 'Genre': 'Fantasy',\n",
      " 'ISBN-10': '0439784549',\n",
      " 'Lexile': '920',\n",
      " 'Pages': 607,\n",
      " 'Publisher': 'Bloomsbury',\n",
      " 'Rating': '4.6',\n",
      " 'Title': 'Harry Potter and the Half-Blood Prince',\n",
      " 'Year': 2005,\n",
      " '_id': ObjectId('6478c15f3db2044a860ec3ed')}\n",
      "{\"Author's First Name\": 'Joanne',\n",
      " \"Author's Last Name\": 'Rowling',\n",
      " 'Book_ID (Primary Key)': 13,\n",
      " 'Genre': 'Fantasy',\n",
      " 'ISBN-10': '0545139708',\n",
      " 'Lexile': '880',\n",
      " 'Pages': 607,\n",
      " 'Publisher': 'Bloomsbury',\n",
      " 'Rating': '4.62',\n",
      " 'Title': 'Harry Potter and the Deathly Hallows',\n",
      " 'Year': 2007,\n",
      " '_id': ObjectId('6478c15f3db2044a860ec3ee')}\n"
     ]
    }
   ],
   "source": [
    "# Finding document(s) on books written by J.K. Rowling\n",
    "query = {'Author\\'s Last Name': 'Rowling'}\n",
    "result = books_collection.find(query)\n",
    "for element in result:\n",
    "    pprint.pprint(element)"
   ]
  },
  {
   "cell_type": "code",
   "execution_count": 20,
   "metadata": {},
   "outputs": [
    {
     "data": {
      "text/plain": [
       "('Harry Potter and the Prisoner of Azkaban', 3)"
      ]
     },
     "execution_count": 20,
     "metadata": {},
     "output_type": "execute_result"
    }
   ],
   "source": [
    "# track the most popular & least popular books\n",
    "result = loans_collection.aggregate([\n",
    "  {\n",
    "    '$group': {\n",
    "      '_id': '$Book Title',\n",
    "      'count': { '$sum': 1 }\n",
    "    }\n",
    "  },\n",
    "  {\n",
    "    '$sort': {\n",
    "        'count': -1\n",
    "    }\n",
    "  }\n",
    "])\n",
    "\n",
    "most_popular_book = (next(result)['_id'], next(result)['count'])\n",
    "most_popular_book\n"
   ]
  },
  {
   "cell_type": "code",
   "execution_count": 19,
   "metadata": {},
   "outputs": [],
   "source": [
    "# track overdue books & their due dates & fines (& probably patrons)"
   ]
  }
 ],
 "metadata": {
  "kernelspec": {
   "display_name": "Python 3",
   "language": "python",
   "name": "python3"
  },
  "language_info": {
   "codemirror_mode": {
    "name": "ipython",
    "version": 3
   },
   "file_extension": ".py",
   "mimetype": "text/x-python",
   "name": "python",
   "nbconvert_exporter": "python",
   "pygments_lexer": "ipython3",
   "version": "3.8.3"
  }
 },
 "nbformat": 4,
 "nbformat_minor": 5
}
