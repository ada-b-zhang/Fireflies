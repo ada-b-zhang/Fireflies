{
 "cells": [
  {
   "cell_type": "code",
   "execution_count": 73,
   "id": "30142589-fd73-4abe-90e6-b58716f3835e",
   "metadata": {},
   "outputs": [],
   "source": [
    "from py2neo import Graph, Node, Relationship\n",
    "import pandas as pd"
   ]
  },
  {
   "cell_type": "code",
   "execution_count": 74,
   "id": "9bac66dc-10d3-49c5-8325-f1776fb2ac13",
   "metadata": {},
   "outputs": [
    {
     "data": {
      "text/plain": [
       "Graph('bolt://localhost:7687')"
      ]
     },
     "execution_count": 74,
     "metadata": {},
     "output_type": "execute_result"
    }
   ],
   "source": [
    "local_dbms_name = 'neo4j'\n",
    "local_dbms_password = '<INSERT YOUR PASSWORD HERE!>'\n",
    "\n",
    "graph = Graph('bolt://localhost:7687', auth=(local_dbms_name, local_dbms_password)) # Note: Make sure to start the connection\n",
    "graph"
   ]
  },
  {
   "cell_type": "code",
   "execution_count": 75,
   "id": "01d452ad-bed4-40ce-b9ef-bbd344c8c1cb",
   "metadata": {},
   "outputs": [
    {
     "data": {
      "text/html": [
       "<div>\n",
       "<style scoped>\n",
       "    .dataframe tbody tr th:only-of-type {\n",
       "        vertical-align: middle;\n",
       "    }\n",
       "\n",
       "    .dataframe tbody tr th {\n",
       "        vertical-align: top;\n",
       "    }\n",
       "\n",
       "    .dataframe thead th {\n",
       "        text-align: right;\n",
       "    }\n",
       "</style>\n",
       "<table border=\"1\" class=\"dataframe\">\n",
       "  <thead>\n",
       "    <tr style=\"text-align: right;\">\n",
       "      <th></th>\n",
       "      <th>Book_ID (Primary Key)</th>\n",
       "      <th>Title</th>\n",
       "      <th>Author's First Name</th>\n",
       "      <th>Author's Last Name</th>\n",
       "      <th>ISBN-10</th>\n",
       "      <th>Genre</th>\n",
       "      <th>Pages</th>\n",
       "      <th>Year</th>\n",
       "      <th>Lexile</th>\n",
       "      <th>Rating</th>\n",
       "      <th>...</th>\n",
       "      <th>Unnamed: 18</th>\n",
       "      <th>Unnamed: 19</th>\n",
       "      <th>Unnamed: 20</th>\n",
       "      <th>Unnamed: 21</th>\n",
       "      <th>Unnamed: 22</th>\n",
       "      <th>Unnamed: 23</th>\n",
       "      <th>Unnamed: 24</th>\n",
       "      <th>Unnamed: 25</th>\n",
       "      <th>Unnamed: 26</th>\n",
       "      <th>Unnamed: 27</th>\n",
       "    </tr>\n",
       "  </thead>\n",
       "  <tbody>\n",
       "    <tr>\n",
       "      <th>0</th>\n",
       "      <td>0.0</td>\n",
       "      <td>Harry Potter and the Sorcerer's Stone</td>\n",
       "      <td>Joanne</td>\n",
       "      <td>Rowling</td>\n",
       "      <td>1338878921</td>\n",
       "      <td>Fantasy</td>\n",
       "      <td>223.0</td>\n",
       "      <td>1997.0</td>\n",
       "      <td>880</td>\n",
       "      <td>4.5</td>\n",
       "      <td>...</td>\n",
       "      <td>NaN</td>\n",
       "      <td>NaN</td>\n",
       "      <td>NaN</td>\n",
       "      <td>NaN</td>\n",
       "      <td>NaN</td>\n",
       "      <td>NaN</td>\n",
       "      <td>NaN</td>\n",
       "      <td>NaN</td>\n",
       "      <td>NaN</td>\n",
       "      <td>NaN</td>\n",
       "    </tr>\n",
       "  </tbody>\n",
       "</table>\n",
       "<p>1 rows × 28 columns</p>\n",
       "</div>"
      ],
      "text/plain": [
       "   Book_ID (Primary Key)                                  Title  \\\n",
       "0                    0.0  Harry Potter and the Sorcerer's Stone   \n",
       "\n",
       "  Author's First Name Author's Last Name     ISBN-10    Genre  Pages    Year  \\\n",
       "0              Joanne            Rowling  1338878921  Fantasy  223.0  1997.0   \n",
       "\n",
       "  Lexile  Rating  ... Unnamed: 18  Unnamed: 19  Unnamed: 20  Unnamed: 21  \\\n",
       "0    880     4.5  ...         NaN          NaN          NaN          NaN   \n",
       "\n",
       "   Unnamed: 22  Unnamed: 23  Unnamed: 24  Unnamed: 25  Unnamed: 26  \\\n",
       "0          NaN          NaN          NaN          NaN          NaN   \n",
       "\n",
       "   Unnamed: 27  \n",
       "0          NaN  \n",
       "\n",
       "[1 rows x 28 columns]"
      ]
     },
     "execution_count": 75,
     "metadata": {},
     "output_type": "execute_result"
    }
   ],
   "source": [
    "books_df = pd.read_csv('Books.csv')\n",
    "books_df.head(1)"
   ]
  },
  {
   "cell_type": "code",
   "execution_count": 76,
   "id": "e8a0ab66-0526-46ac-95d5-cbee00093793",
   "metadata": {},
   "outputs": [],
   "source": [
    "for index, row in books_df.iterrows():\n",
    "    book_node = Node('Book', book_id=row[0], book_title=row[1], author_first_name=row[2], author_last_name=row[3], isbn_10=row[4], main_genre=row[5], page_count=row[6], publish_year=row[7], lexile_level=row[8], avg_rating=row[9], publisher=row[10])\n",
    "    graph.create(book_node)"
   ]
  },
  {
   "cell_type": "code",
   "execution_count": 78,
   "id": "1ec9ab43-77f0-4e05-b7ea-df42948b89dd",
   "metadata": {},
   "outputs": [
    {
     "data": {
      "text/html": [
       "<div>\n",
       "<style scoped>\n",
       "    .dataframe tbody tr th:only-of-type {\n",
       "        vertical-align: middle;\n",
       "    }\n",
       "\n",
       "    .dataframe tbody tr th {\n",
       "        vertical-align: top;\n",
       "    }\n",
       "\n",
       "    .dataframe thead th {\n",
       "        text-align: right;\n",
       "    }\n",
       "</style>\n",
       "<table border=\"1\" class=\"dataframe\">\n",
       "  <thead>\n",
       "    <tr style=\"text-align: right;\">\n",
       "      <th></th>\n",
       "      <th>Author_ID (Primary Key)</th>\n",
       "      <th>First Name</th>\n",
       "      <th>Last Name</th>\n",
       "      <th>Nationality</th>\n",
       "      <th>Undergraduate Degree?</th>\n",
       "      <th>Unnamed: 5</th>\n",
       "      <th>Unnamed: 6</th>\n",
       "      <th>Unnamed: 7</th>\n",
       "      <th>Unnamed: 8</th>\n",
       "      <th>Unnamed: 9</th>\n",
       "      <th>...</th>\n",
       "      <th>Unnamed: 16</th>\n",
       "      <th>Unnamed: 17</th>\n",
       "      <th>Unnamed: 18</th>\n",
       "      <th>Unnamed: 19</th>\n",
       "      <th>Unnamed: 20</th>\n",
       "      <th>Unnamed: 21</th>\n",
       "      <th>Unnamed: 22</th>\n",
       "      <th>Unnamed: 23</th>\n",
       "      <th>Unnamed: 24</th>\n",
       "      <th>Unnamed: 25</th>\n",
       "    </tr>\n",
       "  </thead>\n",
       "  <tbody>\n",
       "    <tr>\n",
       "      <th>0</th>\n",
       "      <td>0</td>\n",
       "      <td>Joanne</td>\n",
       "      <td>Rowling</td>\n",
       "      <td>British</td>\n",
       "      <td>True</td>\n",
       "      <td>NaN</td>\n",
       "      <td>NaN</td>\n",
       "      <td>NaN</td>\n",
       "      <td>NaN</td>\n",
       "      <td>NaN</td>\n",
       "      <td>...</td>\n",
       "      <td>NaN</td>\n",
       "      <td>NaN</td>\n",
       "      <td>NaN</td>\n",
       "      <td>NaN</td>\n",
       "      <td>NaN</td>\n",
       "      <td>NaN</td>\n",
       "      <td>NaN</td>\n",
       "      <td>NaN</td>\n",
       "      <td>NaN</td>\n",
       "      <td>NaN</td>\n",
       "    </tr>\n",
       "  </tbody>\n",
       "</table>\n",
       "<p>1 rows × 26 columns</p>\n",
       "</div>"
      ],
      "text/plain": [
       "   Author_ID (Primary Key) First Name Last Name Nationality  \\\n",
       "0                        0     Joanne   Rowling     British   \n",
       "\n",
       "   Undergraduate Degree?  Unnamed: 5  Unnamed: 6  Unnamed: 7  Unnamed: 8  \\\n",
       "0                   True         NaN         NaN         NaN         NaN   \n",
       "\n",
       "   Unnamed: 9  ...  Unnamed: 16  Unnamed: 17  Unnamed: 18  Unnamed: 19  \\\n",
       "0         NaN  ...          NaN          NaN          NaN          NaN   \n",
       "\n",
       "   Unnamed: 20  Unnamed: 21  Unnamed: 22  Unnamed: 23  Unnamed: 24  \\\n",
       "0          NaN          NaN          NaN          NaN          NaN   \n",
       "\n",
       "   Unnamed: 25  \n",
       "0          NaN  \n",
       "\n",
       "[1 rows x 26 columns]"
      ]
     },
     "execution_count": 78,
     "metadata": {},
     "output_type": "execute_result"
    }
   ],
   "source": [
    "authors_df = pd.read_csv('Authors.csv')\n",
    "authors_df.head(1)"
   ]
  },
  {
   "cell_type": "code",
   "execution_count": 79,
   "id": "9dfb4fa6-d307-45e1-8e18-64eaf74b8406",
   "metadata": {},
   "outputs": [],
   "source": [
    "for index, row in authors_df.iterrows():\n",
    "    author_node = Node('Author', author_id=row[0], first_name=row[1], last_name=row[2], nationality=row[3], has_undergraduate_degree=row[4])\n",
    "    graph.create(author_node)"
   ]
  },
  {
   "cell_type": "code",
   "execution_count": 80,
   "id": "0b93732c-67dd-4586-9f76-1c0519370e12",
   "metadata": {},
   "outputs": [
    {
     "data": {
      "text/html": [
       "<div>\n",
       "<style scoped>\n",
       "    .dataframe tbody tr th:only-of-type {\n",
       "        vertical-align: middle;\n",
       "    }\n",
       "\n",
       "    .dataframe tbody tr th {\n",
       "        vertical-align: top;\n",
       "    }\n",
       "\n",
       "    .dataframe thead th {\n",
       "        text-align: right;\n",
       "    }\n",
       "</style>\n",
       "<table border=\"1\" class=\"dataframe\">\n",
       "  <thead>\n",
       "    <tr style=\"text-align: right;\">\n",
       "      <th></th>\n",
       "      <th>Patron_ID</th>\n",
       "      <th>First</th>\n",
       "      <th>Last</th>\n",
       "      <th>Street Number</th>\n",
       "      <th>Street</th>\n",
       "      <th>City</th>\n",
       "      <th>State</th>\n",
       "      <th>Zip Code</th>\n",
       "      <th>Phone</th>\n",
       "      <th># of current loans</th>\n",
       "      <th>...</th>\n",
       "      <th>Unnamed: 16</th>\n",
       "      <th>Unnamed: 17</th>\n",
       "      <th>Unnamed: 18</th>\n",
       "      <th>Unnamed: 19</th>\n",
       "      <th>Unnamed: 20</th>\n",
       "      <th>Unnamed: 21</th>\n",
       "      <th>Unnamed: 22</th>\n",
       "      <th>Unnamed: 23</th>\n",
       "      <th>Unnamed: 24</th>\n",
       "      <th>Unnamed: 25</th>\n",
       "    </tr>\n",
       "  </thead>\n",
       "  <tbody>\n",
       "    <tr>\n",
       "      <th>0</th>\n",
       "      <td>0</td>\n",
       "      <td>Wacky</td>\n",
       "      <td>Ticklesworth</td>\n",
       "      <td>432</td>\n",
       "      <td>Loopy Lane</td>\n",
       "      <td>Giggleton</td>\n",
       "      <td>Gigglytopia</td>\n",
       "      <td>90210</td>\n",
       "      <td>5404335215</td>\n",
       "      <td>0</td>\n",
       "      <td>...</td>\n",
       "      <td>NaN</td>\n",
       "      <td>NaN</td>\n",
       "      <td>NaN</td>\n",
       "      <td>NaN</td>\n",
       "      <td>NaN</td>\n",
       "      <td>NaN</td>\n",
       "      <td>NaN</td>\n",
       "      <td>NaN</td>\n",
       "      <td>NaN</td>\n",
       "      <td>NaN</td>\n",
       "    </tr>\n",
       "  </tbody>\n",
       "</table>\n",
       "<p>1 rows × 26 columns</p>\n",
       "</div>"
      ],
      "text/plain": [
       "   Patron_ID  First          Last  Street Number      Street       City  \\\n",
       "0          0  Wacky  Ticklesworth            432  Loopy Lane  Giggleton   \n",
       "\n",
       "         State  Zip Code       Phone  # of current loans  ...  Unnamed: 16  \\\n",
       "0  Gigglytopia     90210  5404335215                   0  ...          NaN   \n",
       "\n",
       "   Unnamed: 17  Unnamed: 18  Unnamed: 19  Unnamed: 20  Unnamed: 21  \\\n",
       "0          NaN          NaN          NaN          NaN          NaN   \n",
       "\n",
       "   Unnamed: 22  Unnamed: 23  Unnamed: 24  Unnamed: 25  \n",
       "0          NaN          NaN          NaN          NaN  \n",
       "\n",
       "[1 rows x 26 columns]"
      ]
     },
     "execution_count": 80,
     "metadata": {},
     "output_type": "execute_result"
    }
   ],
   "source": [
    "patrons_df = pd.read_csv('Patrons.csv')\n",
    "patrons_df.head(1)"
   ]
  },
  {
   "cell_type": "code",
   "execution_count": 81,
   "id": "d9863676-6dc7-4452-a0b0-15ffffe1291c",
   "metadata": {},
   "outputs": [],
   "source": [
    "for index, row in patrons_df.iterrows():\n",
    "    patron_node = Node('Patron', patron_id=row[0], first_name=row[1], last_name=row[2], street_number=row[3], street=row[4], city=row[5], state=row[6], zip_code=row[7], phone_number=row[8], num_of_curr_loans=row[9])\n",
    "    graph.create(patron_node)"
   ]
  },
  {
   "cell_type": "code",
   "execution_count": 82,
   "id": "487fc669-6966-425f-9295-f23b4d6fcc63",
   "metadata": {},
   "outputs": [
    {
     "data": {
      "text/html": [
       "<div>\n",
       "<style scoped>\n",
       "    .dataframe tbody tr th:only-of-type {\n",
       "        vertical-align: middle;\n",
       "    }\n",
       "\n",
       "    .dataframe tbody tr th {\n",
       "        vertical-align: top;\n",
       "    }\n",
       "\n",
       "    .dataframe thead th {\n",
       "        text-align: right;\n",
       "    }\n",
       "</style>\n",
       "<table border=\"1\" class=\"dataframe\">\n",
       "  <thead>\n",
       "    <tr style=\"text-align: right;\">\n",
       "      <th></th>\n",
       "      <th>Loan_ID</th>\n",
       "      <th>Book_ID</th>\n",
       "      <th>Book Title</th>\n",
       "      <th>Patron_ID</th>\n",
       "      <th>Patron First Name</th>\n",
       "      <th>Patron Last Name</th>\n",
       "      <th>Loan_Date</th>\n",
       "      <th>Due_Date</th>\n",
       "      <th>Return_Date</th>\n",
       "      <th>Fine</th>\n",
       "      <th>...</th>\n",
       "      <th>Unnamed: 19</th>\n",
       "      <th>Unnamed: 20</th>\n",
       "      <th>Unnamed: 21</th>\n",
       "      <th>Unnamed: 22</th>\n",
       "      <th>Unnamed: 23</th>\n",
       "      <th>Unnamed: 24</th>\n",
       "      <th>Unnamed: 25</th>\n",
       "      <th>Unnamed: 26</th>\n",
       "      <th>Unnamed: 27</th>\n",
       "      <th>Unnamed: 28</th>\n",
       "    </tr>\n",
       "  </thead>\n",
       "  <tbody>\n",
       "    <tr>\n",
       "      <th>0</th>\n",
       "      <td>0</td>\n",
       "      <td>6</td>\n",
       "      <td>Harry Potter and the Prisoner of Azkaban</td>\n",
       "      <td>1</td>\n",
       "      <td>Chuckleberry</td>\n",
       "      <td>Gigglebottom</td>\n",
       "      <td>3/14/2022</td>\n",
       "      <td>4/14/2022</td>\n",
       "      <td>5/14/2022</td>\n",
       "      <td>#NAME?</td>\n",
       "      <td>...</td>\n",
       "      <td>NaN</td>\n",
       "      <td>NaN</td>\n",
       "      <td>NaN</td>\n",
       "      <td>NaN</td>\n",
       "      <td>NaN</td>\n",
       "      <td>NaN</td>\n",
       "      <td>NaN</td>\n",
       "      <td>NaN</td>\n",
       "      <td>NaN</td>\n",
       "      <td>NaN</td>\n",
       "    </tr>\n",
       "  </tbody>\n",
       "</table>\n",
       "<p>1 rows × 29 columns</p>\n",
       "</div>"
      ],
      "text/plain": [
       "   Loan_ID  Book_ID                                Book Title  Patron_ID  \\\n",
       "0        0        6  Harry Potter and the Prisoner of Azkaban          1   \n",
       "\n",
       "  Patron First Name Patron Last Name  Loan_Date   Due_Date Return_Date  \\\n",
       "0      Chuckleberry     Gigglebottom  3/14/2022  4/14/2022   5/14/2022   \n",
       "\n",
       "     Fine  ...  Unnamed: 19  Unnamed: 20  Unnamed: 21  Unnamed: 22  \\\n",
       "0  #NAME?  ...          NaN          NaN          NaN          NaN   \n",
       "\n",
       "   Unnamed: 23  Unnamed: 24  Unnamed: 25  Unnamed: 26  Unnamed: 27  \\\n",
       "0          NaN          NaN          NaN          NaN          NaN   \n",
       "\n",
       "   Unnamed: 28  \n",
       "0          NaN  \n",
       "\n",
       "[1 rows x 29 columns]"
      ]
     },
     "execution_count": 82,
     "metadata": {},
     "output_type": "execute_result"
    }
   ],
   "source": [
    "loans_df = pd.read_csv('Loans.csv')\n",
    "loans_df.head(1)"
   ]
  },
  {
   "cell_type": "code",
   "execution_count": 83,
   "id": "72096ebd-b38c-42e2-92a1-2c5e3d71e35e",
   "metadata": {},
   "outputs": [],
   "source": [
    "for index, row in loans_df.iterrows():\n",
    "    loan_node = Node('Loan', loan_id=row[0], book_id=row[1], book_title=row[2], patron_id=row[3], patron_first_name=row[4], patron_last_name=row[5], loan_date=row[6], due_date=row[7], return_date=row[8], fine=row[9])\n",
    "    graph.create(loan_node)"
   ]
  },
  {
   "cell_type": "code",
   "execution_count": 77,
   "id": "3ff1f476-85fb-434b-8b48-3301f2c775ea",
   "metadata": {},
   "outputs": [],
   "source": [
    "# For if you want to clear the database (this doesn't delete the CSV files that you've imported)\n",
    "query_to_delete_everything = '''\n",
    "MATCH (n)\n",
    "DETACH DELETE n;\n",
    "'''"
   ]
  },
  {
   "cell_type": "code",
   "execution_count": 70,
   "id": "3469d8f1-dde1-4ea4-8a88-0ef658852b30",
   "metadata": {},
   "outputs": [
    {
     "data": {
      "text/html": [
       "(No data)"
      ],
      "text/plain": [
       "(No data)"
      ]
     },
     "execution_count": 70,
     "metadata": {},
     "output_type": "execute_result"
    }
   ],
   "source": [
    "graph.run(query_to_delete_everything)"
   ]
  },
  {
   "cell_type": "code",
   "execution_count": 71,
   "id": "66ecfa0c-88e8-4eec-9715-1fe76243c936",
   "metadata": {},
   "outputs": [],
   "source": [
    "# For if you want to retrieve everything in the database\n",
    "query_to_get_everything = '''\n",
    "MATCH (n) RETURN n;\n",
    "'''"
   ]
  },
  {
   "cell_type": "code",
   "execution_count": 72,
   "id": "0a933664-a522-4b3e-88f0-ea246b5ce603",
   "metadata": {},
   "outputs": [
    {
     "data": {
      "text/html": [
       "(No data)"
      ],
      "text/plain": [
       "(No data)"
      ]
     },
     "execution_count": 72,
     "metadata": {},
     "output_type": "execute_result"
    }
   ],
   "source": [
    "graph.run(query_to_get_everything)"
   ]
  },
  {
   "cell_type": "code",
   "execution_count": 85,
   "id": "86435465-1011-4f06-a670-289762ff2308",
   "metadata": {},
   "outputs": [
    {
     "data": {
      "text/html": [
       "<table><tr><th>n</th></tr><tr><td style=\"text-align:left\">(_14:Book {author_first_name: &#039;Ray &#039;, author_last_name: &#039;Bradbury&#039;, avg_rating: 4.0, book_id: 14.0, book_title: &#039;Fahrenheit 451&#039;, isbn_10: &#039;1451673310&#039;, lexile_level: &#039;890&#039;, main_genre: &#039;Dystopian fiction&#039;, page_count: 158.0, publish_year: 1953.0, publisher: &#039;Ballantine Books&#039;})</td></tr><tr><td style=\"text-align:left\">(_15:Book {author_first_name: &#039;Ray &#039;, author_last_name: &#039;Bradbury&#039;, avg_rating: 4.0, book_id: 15.0, book_title: &#039;Fahrenheit 451&#039;, isbn_10: &#039;1451673310&#039;, lexile_level: &#039;890&#039;, main_genre: &#039;Dystopian fiction&#039;, page_count: 158.0, publish_year: 1953.0, publisher: &#039;Ballantine Books&#039;})</td></tr><tr><td style=\"text-align:left\">(_16:Book {author_first_name: &#039;Ray &#039;, author_last_name: &#039;Bradbury&#039;, avg_rating: 4.0, book_id: 16.0, book_title: &#039;Fahrenheit 451&#039;, isbn_10: &#039;1451673310&#039;, lexile_level: &#039;890&#039;, main_genre: &#039;Dystopian fiction&#039;, page_count: 158.0, publish_year: 1953.0, publisher: &#039;Ballantine Books&#039;})</td></tr></table>"
      ],
      "text/plain": [
       " n                                                                                                                                                                                                                                                                                       \n",
       "-----------------------------------------------------------------------------------------------------------------------------------------------------------------------------------------------------------------------------------------------------------------------------------------\n",
       " (_14:Book {author_first_name: 'Ray ', author_last_name: 'Bradbury', avg_rating: 4.0, book_id: 14.0, book_title: 'Fahrenheit 451', isbn_10: '1451673310', lexile_level: '890', main_genre: 'Dystopian fiction', page_count: 158.0, publish_year: 1953.0, publisher: 'Ballantine Books'}) \n",
       " (_15:Book {author_first_name: 'Ray ', author_last_name: 'Bradbury', avg_rating: 4.0, book_id: 15.0, book_title: 'Fahrenheit 451', isbn_10: '1451673310', lexile_level: '890', main_genre: 'Dystopian fiction', page_count: 158.0, publish_year: 1953.0, publisher: 'Ballantine Books'}) \n",
       " (_16:Book {author_first_name: 'Ray ', author_last_name: 'Bradbury', avg_rating: 4.0, book_id: 16.0, book_title: 'Fahrenheit 451', isbn_10: '1451673310', lexile_level: '890', main_genre: 'Dystopian fiction', page_count: 158.0, publish_year: 1953.0, publisher: 'Ballantine Books'}) "
      ]
     },
     "execution_count": 85,
     "metadata": {},
     "output_type": "execute_result"
    }
   ],
   "source": [
    "# Testing node-finding\n",
    "query_to_find_a_book = '''\n",
    "MATCH (n:Book {book_title: 'Fahrenheit 451'}) RETURN n;\n",
    "'''\n",
    "graph.run(query_to_find_a_book)"
   ]
  },
  {
   "cell_type": "code",
   "execution_count": 86,
   "id": "0cdd5fcb-386c-4ebc-b5b1-335c86c1106a",
   "metadata": {},
   "outputs": [
    {
     "data": {
      "text/html": [
       "<table><tr><th>n</th></tr><tr><td style=\"text-align:left\">(_1004:Author {author_id: 5, first_name: &#039;John&#039;, has_undergraduate_degree: true, last_name: &#039;Tolkien&#039;, nationality: &#039;British&#039;})</td></tr></table>"
      ],
      "text/plain": [
       " n                                                                                                                               \n",
       "---------------------------------------------------------------------------------------------------------------------------------\n",
       " (_1004:Author {author_id: 5, first_name: 'John', has_undergraduate_degree: true, last_name: 'Tolkien', nationality: 'British'}) "
      ]
     },
     "execution_count": 86,
     "metadata": {},
     "output_type": "execute_result"
    }
   ],
   "source": [
    "query_to_find_an_author = '''\n",
    "MATCH (n:Author {last_name: 'Tolkien'}) RETURN n;\n",
    "'''\n",
    "graph.run(query_to_find_an_author)"
   ]
  },
  {
   "cell_type": "code",
   "execution_count": 88,
   "id": "9c05fbd9-3729-43d6-8cab-5731ae55d0f2",
   "metadata": {},
   "outputs": [
    {
     "data": {
      "text/html": [
       "<table><tr><th>n</th></tr><tr><td style=\"text-align:left\">(_1022:Patron {city: &#039;Quirkville&#039;, first_name: &#039;Chuckleberry&#039;, last_name: &#039;Gigglebottom&#039;, num_of_curr_loans: 1, patron_id: 1, phone_number: 5693210547, state: &#039;Quirkistan&#039;, street: &#039;Chuckle Street&#039;, street_number: 87, zip_code: 10001})</td></tr></table>"
      ],
      "text/plain": [
       " n                                                                                                                                                                                                                                           \n",
       "---------------------------------------------------------------------------------------------------------------------------------------------------------------------------------------------------------------------------------------------\n",
       " (_1022:Patron {city: 'Quirkville', first_name: 'Chuckleberry', last_name: 'Gigglebottom', num_of_curr_loans: 1, patron_id: 1, phone_number: 5693210547, state: 'Quirkistan', street: 'Chuckle Street', street_number: 87, zip_code: 10001}) "
      ]
     },
     "execution_count": 88,
     "metadata": {},
     "output_type": "execute_result"
    }
   ],
   "source": [
    "query_to_find_a_patron = '''\n",
    "MATCH (n:Patron {last_name: 'Gigglebottom'}) RETURN n;\n",
    "'''\n",
    "graph.run(query_to_find_a_patron)"
   ]
  },
  {
   "cell_type": "code",
   "execution_count": 89,
   "id": "e3748af0-f25c-4083-9514-e2af4c80880c",
   "metadata": {},
   "outputs": [
    {
     "data": {
      "text/html": [
       "<table><tr><th>n</th></tr><tr><td style=\"text-align:left\">(_1041:Loan {book_id: 21, book_title: &#039;The Scarlet Letter&#039;, due_date: &#039;9/14/2022&#039;, fine: &#039;#NAME?&#039;, loan_date: &#039;8/14/2022&#039;, loan_id: 5, patron_first_name: &#039;Jiggles&#039;, patron_id: 4, patron_last_name: &#039;Quirkington&#039;, return_date: &#039;9/30/2022&#039;})</td></tr></table>"
      ],
      "text/plain": [
       " n                                                                                                                                                                                                                                              \n",
       "------------------------------------------------------------------------------------------------------------------------------------------------------------------------------------------------------------------------------------------------\n",
       " (_1041:Loan {book_id: 21, book_title: 'The Scarlet Letter', due_date: '9/14/2022', fine: '#NAME?', loan_date: '8/14/2022', loan_id: 5, patron_first_name: 'Jiggles', patron_id: 4, patron_last_name: 'Quirkington', return_date: '9/30/2022'}) "
      ]
     },
     "execution_count": 89,
     "metadata": {},
     "output_type": "execute_result"
    }
   ],
   "source": [
    "query_to_find_a_loan = '''\n",
    "MATCH (n:Loan {loan_id: 5}) RETURN n;\n",
    "'''\n",
    "graph.run(query_to_find_a_loan)"
   ]
  },
  {
   "cell_type": "code",
   "execution_count": null,
   "id": "40233da1-c846-4faa-bac2-719f6951d92d",
   "metadata": {},
   "outputs": [],
   "source": [
    "# Remaining TODOS:\n",
    "    # Create the relationships b/n the nodes\n",
    "    # Finalize database evaluation queries"
   ]
  }
 ],
 "metadata": {
  "kernelspec": {
   "display_name": "Python 3 (ipykernel)",
   "language": "python",
   "name": "python3"
  },
  "language_info": {
   "codemirror_mode": {
    "name": "ipython",
    "version": 3
   },
   "file_extension": ".py",
   "mimetype": "text/x-python",
   "name": "python",
   "nbconvert_exporter": "python",
   "pygments_lexer": "ipython3",
   "version": "3.8.16"
  }
 },
 "nbformat": 4,
 "nbformat_minor": 5
}
