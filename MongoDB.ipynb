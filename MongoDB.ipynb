{
 "cells": [
  {
   "cell_type": "code",
   "execution_count": 25,
   "id": "fe809505-dbd8-4c95-aadf-3696863e9630",
   "metadata": {},
   "outputs": [],
   "source": [
    "# package imports\n",
    "import pymongo\n",
    "from pymongo import MongoClient\n",
    "import pandas as pd\n",
    "import pprint"
   ]
  },
  {
   "cell_type": "code",
   "execution_count": 26,
   "id": "8122d8f9-baff-4447-ae9d-934cdb8f3f4e",
   "metadata": {},
   "outputs": [],
   "source": [
    "# connect to client\n",
    "client = MongoClient('localhost', 27017)"
   ]
  },
  {
   "cell_type": "code",
   "execution_count": 27,
   "id": "cceac88f-c471-460a-aaa5-64aacb401af5",
   "metadata": {},
   "outputs": [
    {
     "data": {
      "text/plain": [
       "MongoClient(host=['localhost:27017'], document_class=dict, tz_aware=False, connect=True)"
      ]
     },
     "execution_count": 27,
     "metadata": {},
     "output_type": "execute_result"
    }
   ],
   "source": [
    "# check client connection\n",
    "client"
   ]
  },
  {
   "cell_type": "code",
   "execution_count": 43,
   "id": "c81b6101-0ced-492b-86d4-1a54bada73eb",
   "metadata": {},
   "outputs": [],
   "source": [
    "# make database\n",
    "db = client.Library_Data\n",
    "\n",
    "# make collections\n",
    "books_collection = db.Books\n",
    "authors_collection = db.Authors\n",
    "patrons_collection = db.Patrons\n",
    "loans_collection = db.Loans"
   ]
  },
  {
   "cell_type": "code",
   "execution_count": 29,
   "id": "a72f73f8-9b8a-48d1-8493-ad022630aa0e",
   "metadata": {},
   "outputs": [],
   "source": [
    "# testing\n",
    "test_query = {'Title': 'Painless Earth Science'}"
   ]
  },
  {
   "cell_type": "code",
   "execution_count": 30,
   "id": "fd12cb1b-473e-4619-a21d-cb94c4a8df1c",
   "metadata": {},
   "outputs": [],
   "source": [
    "search_result = books_collection.find(example_query)"
   ]
  },
  {
   "cell_type": "code",
   "execution_count": 31,
   "id": "50c3ef20-c45e-4406-98f4-89c2f4bc4b7e",
   "metadata": {},
   "outputs": [
    {
     "name": "stdout",
     "output_type": "stream",
     "text": [
      "{\"Author's First Name\": 'Edward',\n",
      " \"Author's Last Name\": 'Denecke',\n",
      " 'Book_ID (Primary Key)': 28,\n",
      " 'Genre': 'Non-fiction',\n",
      " 'ISBN-10': '764146017',\n",
      " 'Lexile': 'None',\n",
      " 'Pages': 336,\n",
      " 'Publisher': '\\u200eBarrons Educational Services',\n",
      " 'Rating': '3.8',\n",
      " 'Title': 'Painless Earth Science',\n",
      " 'Year': 2021,\n",
      " '_id': ObjectId('647662258f0203830646f0d9')}\n"
     ]
    }
   ],
   "source": [
    "for element in search_result:\n",
    "    pprint.pprint(element)"
   ]
  },
  {
   "cell_type": "code",
   "execution_count": 62,
   "id": "791e583b-36eb-46ec-8c6a-c39c0f2f75fd",
   "metadata": {},
   "outputs": [
    {
     "data": {
      "text/plain": [
       "{'_id': ObjectId('64766af38f0203830646f10b'),\n",
       " 'Loan_ID': 0,\n",
       " 'Book_ID': 6,\n",
       " 'Book Title': 'Harry Potter and the Prisoner of Azkaban',\n",
       " 'Patron_ID': 1,\n",
       " 'Patron First Name': 'Chuckleberry',\n",
       " 'Patron Last Name': 'Gigglebottom',\n",
       " 'Loan_Date': datetime.datetime(2022, 3, 14, 4, 0),\n",
       " 'Due_Date': datetime.datetime(2022, 4, 14, 4, 0),\n",
       " 'Return_Date': datetime.datetime(2022, 5, 14, 4, 0),\n",
       " 'Fine': '$30.00'}"
      ]
     },
     "execution_count": 62,
     "metadata": {},
     "output_type": "execute_result"
    }
   ],
   "source": [
    "all_loans = loans_collection.find({})\n",
    "\n",
    "overdue_loans = []\n",
    "for loan in all_loans:\n",
    "    due_date = loan['Due_Date'].strftime('%Y-%m-%dT%H:%M:%SZ')\n",
    "    return_date = loan['Return_Date'].strftime('%Y-%m-%dT%H:%M:%SZ')\n",
    "    if return_date > due_date:\n",
    "        overdue_loans.append(loan)\n",
    "\n",
    "# len(overdue_loans) # 15\n",
    "overdue_loans[0]"
   ]
  },
  {
   "cell_type": "code",
   "execution_count": 57,
   "id": "ef5e7cb4-87ad-4224-b6ce-65130e42c362",
   "metadata": {},
   "outputs": [
    {
     "name": "stdout",
     "output_type": "stream",
     "text": [
      "<class 'dict'>\n",
      "<class 'dict'>\n",
      "<class 'dict'>\n",
      "<class 'dict'>\n",
      "<class 'dict'>\n",
      "<class 'dict'>\n",
      "<class 'dict'>\n",
      "<class 'dict'>\n",
      "<class 'dict'>\n",
      "<class 'dict'>\n",
      "<class 'dict'>\n",
      "<class 'dict'>\n",
      "<class 'dict'>\n",
      "<class 'dict'>\n",
      "<class 'dict'>\n",
      "<class 'dict'>\n",
      "<class 'dict'>\n",
      "<class 'dict'>\n",
      "<class 'dict'>\n",
      "<class 'dict'>\n",
      "<class 'dict'>\n",
      "<class 'dict'>\n",
      "<class 'dict'>\n"
     ]
    }
   ],
   "source": [
    "query = {\n",
    "    'Book_ID': {'$gt': 0}\n",
    "}\n",
    "\n",
    "result = loans_collection.find(query)\n",
    "\n",
    "for book in result:\n",
    "    print(type(book))"
   ]
  },
  {
   "cell_type": "code",
   "execution_count": 45,
   "id": "3ba20f66-128b-4d94-bc0f-47db16710610",
   "metadata": {},
   "outputs": [
    {
     "data": {
      "text/plain": [
       "('Harry Potter and the Prisoner of Azkaban', 3)"
      ]
     },
     "execution_count": 45,
     "metadata": {},
     "output_type": "execute_result"
    }
   ],
   "source": [
    "result = loans_collection.aggregate([\n",
    "  {\n",
    "    '$group': {\n",
    "      '_id': '$Book Title',\n",
    "      'count': { '$sum': 1 }\n",
    "    }\n",
    "  },\n",
    "  {\n",
    "    '$sort': {\n",
    "        'count': -1\n",
    "    }\n",
    "  }\n",
    "])\n",
    "\n",
    "most_popular_book = (next(result)['_id'], next(result)['count'])\n",
    "most_popular_book"
   ]
  },
  {
   "cell_type": "code",
   "execution_count": 46,
   "id": "2828781d-1647-4f43-abb7-4f72e8dca770",
   "metadata": {},
   "outputs": [
    {
     "data": {
      "text/plain": [
       "('Harry Potter and the Deathly Hallows', 1)"
      ]
     },
     "execution_count": 46,
     "metadata": {},
     "output_type": "execute_result"
    }
   ],
   "source": [
    "result = loans_collection.aggregate([\n",
    "  {\n",
    "    '$group': {\n",
    "      '_id': '$Book Title',\n",
    "      'count': { '$sum': 1 }\n",
    "    }\n",
    "  },\n",
    "  {\n",
    "    '$sort': {\n",
    "        'count': 1\n",
    "    }\n",
    "  }\n",
    "])\n",
    "\n",
    "least_popular_book = (next(result)['_id'], next(result)['count'])\n",
    "least_popular_book"
   ]
  }
 ],
 "metadata": {
  "kernelspec": {
   "display_name": "Python 3 (ipykernel)",
   "language": "python",
   "name": "python3"
  },
  "language_info": {
   "codemirror_mode": {
    "name": "ipython",
    "version": 3
   },
   "file_extension": ".py",
   "mimetype": "text/x-python",
   "name": "python",
   "nbconvert_exporter": "python",
   "pygments_lexer": "ipython3",
   "version": "3.8.16"
  }
 },
 "nbformat": 4,
 "nbformat_minor": 5
}
