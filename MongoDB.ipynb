{
 "cells": [
  {
   "cell_type": "code",
   "execution_count": 17,
   "id": "fe809505-dbd8-4c95-aadf-3696863e9630",
   "metadata": {},
   "outputs": [],
   "source": [
    "# package imports\n",
    "import pymongo\n",
    "from pymongo import MongoClient\n",
    "import pandas as pd\n",
    "import pprint"
   ]
  },
  {
   "cell_type": "code",
   "execution_count": 18,
   "id": "8122d8f9-baff-4447-ae9d-934cdb8f3f4e",
   "metadata": {},
   "outputs": [],
   "source": [
    "# connect to client\n",
    "client = MongoClient('localhost', 27017)"
   ]
  },
  {
   "cell_type": "code",
   "execution_count": 19,
   "id": "cceac88f-c471-460a-aaa5-64aacb401af5",
   "metadata": {},
   "outputs": [
    {
     "data": {
      "text/plain": [
       "MongoClient(host=['localhost:27017'], document_class=dict, tz_aware=False, connect=True)"
      ]
     },
     "execution_count": 19,
     "metadata": {},
     "output_type": "execute_result"
    }
   ],
   "source": [
    "# check client connection\n",
    "client"
   ]
  },
  {
   "cell_type": "code",
   "execution_count": 21,
   "id": "c81b6101-0ced-492b-86d4-1a54bada73eb",
   "metadata": {},
   "outputs": [],
   "source": [
    "# make database\n",
    "db = client.Library_Data\n",
    "\n",
    "# make collections\n",
    "books_collection = db.Books\n",
    "authors_collection = db.Authors\n",
    "patrons_collection = db.Patrons\n",
    "loans_collection = db.Loans"
   ]
  },
  {
   "cell_type": "code",
   "execution_count": 22,
   "id": "a72f73f8-9b8a-48d1-8493-ad022630aa0e",
   "metadata": {},
   "outputs": [],
   "source": [
    "# testing\n",
    "test_query = {'Title': 'Painless Earth Science'}"
   ]
  },
  {
   "cell_type": "code",
   "execution_count": 23,
   "id": "fd12cb1b-473e-4619-a21d-cb94c4a8df1c",
   "metadata": {},
   "outputs": [],
   "source": [
    "search_result = books_collection.find(example_query)"
   ]
  },
  {
   "cell_type": "code",
   "execution_count": 24,
   "id": "50c3ef20-c45e-4406-98f4-89c2f4bc4b7e",
   "metadata": {},
   "outputs": [
    {
     "name": "stdout",
     "output_type": "stream",
     "text": [
      "{\"Author's First Name\": 'Edward',\n",
      " \"Author's Last Name\": 'Denecke',\n",
      " 'Book_ID (Primary Key)': 28,\n",
      " 'Genre': 'Non-fiction',\n",
      " 'ISBN-10': '764146017',\n",
      " 'Lexile': 'None',\n",
      " 'Pages': 336,\n",
      " 'Publisher': '\\u200eBarrons Educational Services',\n",
      " 'Rating': '3.8',\n",
      " 'Title': 'Painless Earth Science',\n",
      " 'Year': 2021,\n",
      " '_id': ObjectId('647662258f0203830646f0d9')}\n"
     ]
    }
   ],
   "source": [
    "for element in search_result:\n",
    "    pprint.pprint(element)"
   ]
  },
  {
   "cell_type": "code",
   "execution_count": null,
   "id": "ef5e7cb4-87ad-4224-b6ce-65130e42c362",
   "metadata": {},
   "outputs": [],
   "source": [
    "# track overdue books & their due dates & fines (& probably patrons)\n",
    "# track the most popular & least popular books"
   ]
  }
 ],
 "metadata": {
  "kernelspec": {
   "display_name": "Python 3 (ipykernel)",
   "language": "python",
   "name": "python3"
  },
  "language_info": {
   "codemirror_mode": {
    "name": "ipython",
    "version": 3
   },
   "file_extension": ".py",
   "mimetype": "text/x-python",
   "name": "python",
   "nbconvert_exporter": "python",
   "pygments_lexer": "ipython3",
   "version": "3.8.16"
  }
 },
 "nbformat": 4,
 "nbformat_minor": 5
}
