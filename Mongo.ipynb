{
 "cells": [
  {
   "cell_type": "markdown",
   "metadata": {
    "id": "Pl3YK1XXCCmo"
   },
   "source": [
    "## THIS WILL NOT WORK IN GOOGLE COLAB! PLEASE EXPORT AS AN .IPYNB FILE AND RUN LOCALLY!"
   ]
  },
  {
   "cell_type": "markdown",
   "metadata": {
    "id": "IKkww35xCCm6"
   },
   "source": [
    "# MongoDB"
   ]
  },
  {
   "cell_type": "markdown",
   "metadata": {
    "id": "PPCXp-iwCCm7"
   },
   "source": [
    "### Super quick JSON review"
   ]
  },
  {
   "cell_type": "code",
   "execution_count": 1,
   "metadata": {
    "id": "RfxVznMRCCm8"
   },
   "outputs": [],
   "source": [
    "example_dict = {\n",
    "    'key': 'value',\n",
    "    'my_list': [1, 2, 3],\n",
    "    'complex_structure': {\n",
    "        'multi_list': ['a', 'b', 'c']\n",
    "    }\n",
    "}"
   ]
  },
  {
   "cell_type": "code",
   "execution_count": 2,
   "metadata": {
    "id": "clKzSuMjCCm_"
   },
   "outputs": [
    {
     "data": {
      "text/plain": [
       "'b'"
      ]
     },
     "execution_count": 2,
     "metadata": {},
     "output_type": "execute_result"
    }
   ],
   "source": [
    "example_dict['complex_structure']['multi_list'][1]"
   ]
  },
  {
   "cell_type": "markdown",
   "metadata": {
    "id": "znx9uT_TCCnJ"
   },
   "source": [
    "### Setting things up"
   ]
  },
  {
   "cell_type": "markdown",
   "metadata": {
    "id": "RWzNdbLAtBPX"
   },
   "source": [
    "Remember to restart the kernel after running this code cell if you didn't already have pymongo installed (you only need to do this once)"
   ]
  },
  {
   "cell_type": "code",
   "execution_count": 3,
   "metadata": {
    "id": "HyaEt2cHs8lj"
   },
   "outputs": [
    {
     "name": "stdout",
     "output_type": "stream",
     "text": [
      "Requirement already satisfied: pymongo in c:\\users\\rohan\\anaconda3\\lib\\site-packages (4.3.3)\n",
      "Requirement already satisfied: dnspython<3.0.0,>=1.16.0 in c:\\users\\rohan\\anaconda3\\lib\\site-packages (from pymongo) (2.3.0)\n",
      "Note: you may need to restart the kernel to use updated packages.\n"
     ]
    }
   ],
   "source": [
    "pip install pymongo"
   ]
  },
  {
   "cell_type": "code",
   "execution_count": 4,
   "metadata": {
    "id": "7Osvpbz7CCnK"
   },
   "outputs": [],
   "source": [
    "import pymongo\n",
    "from pymongo import MongoClient\n",
    "import pandas as pd"
   ]
  },
  {
   "cell_type": "code",
   "execution_count": 5,
   "metadata": {
    "id": "tGoxtv90CCnM"
   },
   "outputs": [],
   "source": [
    "client = MongoClient('localhost', 27017)"
   ]
  },
  {
   "cell_type": "code",
   "execution_count": 6,
   "metadata": {
    "id": "6gjaLLzGCCnP"
   },
   "outputs": [
    {
     "data": {
      "text/plain": [
       "MongoClient(host=['localhost:27017'], document_class=dict, tz_aware=False, connect=True)"
      ]
     },
     "execution_count": 6,
     "metadata": {},
     "output_type": "execute_result"
    }
   ],
   "source": [
    "client"
   ]
  },
  {
   "cell_type": "code",
   "execution_count": 7,
   "metadata": {
    "id": "LShNkvPBCCnY"
   },
   "outputs": [],
   "source": [
    "db = client.example"
   ]
  },
  {
   "cell_type": "code",
   "execution_count": 8,
   "metadata": {
    "id": "JU41DWJKCCnZ"
   },
   "outputs": [],
   "source": [
    "collection = db.students"
   ]
  },
  {
   "cell_type": "markdown",
   "metadata": {
    "id": "-I3_0kA0CCnZ"
   },
   "source": [
    "### Inserting/deleting data"
   ]
  },
  {
   "cell_type": "markdown",
   "metadata": {
    "id": "0viAWcgxxWzd"
   },
   "source": [
    "MongoDB is made up of, in a simplified way, massive JSON objects"
   ]
  },
  {
   "cell_type": "code",
   "execution_count": null,
   "metadata": {
    "id": "k4S28R8sCCna"
   },
   "outputs": [],
   "source": [
    "student = {'name': 'Cannon', 'lname': 'Johns', 'year': 3, 'major': 'economics', 'is_undergrad': True}"
   ]
  },
  {
   "cell_type": "code",
   "execution_count": null,
   "metadata": {
    "id": "MdLBSXovCCnb"
   },
   "outputs": [],
   "source": [
    "collection.insert_one(student)"
   ]
  },
  {
   "cell_type": "code",
   "execution_count": null,
   "metadata": {
    "id": "Y6C-Zw7ECCnb"
   },
   "outputs": [],
   "source": [
    "collection.delete_one({'name':'Cannon'})"
   ]
  },
  {
   "cell_type": "code",
   "execution_count": null,
   "metadata": {
    "id": "0aGqln1ACCnc"
   },
   "outputs": [],
   "source": [
    "students = [{'name': 'Cannon', 'lname': 'Johns', 'year': 3, 'major': 'economics', 'is_undergrad': True},\n",
    "           {'name': 'Jake', 'lname': 'Antmann', 'year': 3, 'major': 'stats', 'is_undergrad': True},\n",
    "           {'name': 'Ben', 'lname': 'Artuso', 'year': 5, 'major': 'github', 'is_undergrad': False}]"
   ]
  },
  {
   "cell_type": "code",
   "execution_count": null,
   "metadata": {
    "id": "1BZY7O02CCne"
   },
   "outputs": [],
   "source": [
    "collection.insert_many(students)"
   ]
  },
  {
   "cell_type": "code",
   "execution_count": null,
   "metadata": {
    "id": "9vjVdgseCCni"
   },
   "outputs": [],
   "source": [
    "collection.delete_many({'is_undergrad':True})"
   ]
  },
  {
   "cell_type": "code",
   "execution_count": null,
   "metadata": {
    "id": "XhO5B_A-CCnj"
   },
   "outputs": [],
   "source": [
    "collection.delete_many({})"
   ]
  },
  {
   "cell_type": "markdown",
   "metadata": {
    "id": "TcFCPHOVCCnk"
   },
   "source": [
    "### Querying data"
   ]
  },
  {
   "cell_type": "markdown",
   "metadata": {
    "id": "6sbpG-IvwW-s"
   },
   "source": [
    "Let's explore some example data that might be similar to the type you are creating in your projects"
   ]
  },
  {
   "cell_type": "code",
   "execution_count": null,
   "metadata": {
    "id": "4ATftn6fCCnk"
   },
   "outputs": [],
   "source": [
    "employees = pd.read_csv('https://raw.githubusercontent.com/hmf9kx/LDS2022/main/week2/employees.csv')\n",
    "employees"
   ]
  },
  {
   "cell_type": "markdown",
   "metadata": {
    "id": "ySVHP_1owdNY"
   },
   "source": [
    "We can easily convert flat data to dictionary format with `to_dict()`"
   ]
  },
  {
   "cell_type": "code",
   "execution_count": null,
   "metadata": {
    "id": "ysJzAeBVCCnl"
   },
   "outputs": [],
   "source": [
    "employees_dict = employees.to_dict('records')\n",
    "employees_dict"
   ]
  },
  {
   "cell_type": "markdown",
   "metadata": {
    "id": "8RRyaesbwjaS"
   },
   "source": [
    "We can then insert it into our MongoDB"
   ]
  },
  {
   "cell_type": "code",
   "execution_count": null,
   "metadata": {
    "id": "iG5Y46AACCnm"
   },
   "outputs": [],
   "source": [
    "employee_collection = db.employees"
   ]
  },
  {
   "cell_type": "code",
   "execution_count": null,
   "metadata": {
    "id": "IKxSgWV9CCnm"
   },
   "outputs": [],
   "source": [
    "employee_collection.insert_many(employees_dict)"
   ]
  },
  {
   "cell_type": "markdown",
   "metadata": {
    "id": "Gy8diEiSwqmv"
   },
   "source": [
    "Just like how we create data with dictionaries, we query data the same way"
   ]
  },
  {
   "cell_type": "code",
   "execution_count": null,
   "metadata": {
    "id": "LXcoayA7CCnn"
   },
   "outputs": [],
   "source": [
    "query = {'first_name': 'Adam'}\n",
    "employee_collection.find_one(query)"
   ]
  },
  {
   "cell_type": "code",
   "execution_count": null,
   "metadata": {
    "id": "Vpj9Pco1CCnp"
   },
   "outputs": [],
   "source": [
    "query = {'team': 'A'}\n",
    "employee_collection.find(query)"
   ]
  },
  {
   "cell_type": "code",
   "execution_count": null,
   "metadata": {
    "id": "M8sJX9AgCCnp"
   },
   "outputs": [],
   "source": [
    "query = {'team': 'A'}\n",
    "result = employee_collection.find(query)"
   ]
  },
  {
   "cell_type": "code",
   "execution_count": null,
   "metadata": {
    "id": "JukB8XZwCCnq"
   },
   "outputs": [],
   "source": [
    "for e in result:\n",
    "    print(e)"
   ]
  },
  {
   "cell_type": "markdown",
   "metadata": {
    "id": "VITX5FnYwy9_"
   },
   "source": [
    "We can use prettyprint to make things a bit more human readable"
   ]
  },
  {
   "cell_type": "code",
   "execution_count": null,
   "metadata": {
    "id": "N64-FeyjCCnq"
   },
   "outputs": [],
   "source": [
    "import pprint"
   ]
  },
  {
   "cell_type": "code",
   "execution_count": null,
   "metadata": {
    "id": "BubhjWqlCCnq"
   },
   "outputs": [],
   "source": [
    "query = {'team': 'A'}\n",
    "result = employee_collection.find(query)"
   ]
  },
  {
   "cell_type": "code",
   "execution_count": null,
   "metadata": {
    "id": "XsAr0rUmCCnr"
   },
   "outputs": [],
   "source": [
    "for e in result:\n",
    "    pprint.pprint(e)"
   ]
  },
  {
   "cell_type": "code",
   "execution_count": null,
   "metadata": {
    "id": "dTyVV5JcCCns"
   },
   "outputs": [],
   "source": [
    "age_query = {'age': {'$lt': 30}}\n",
    "result = employee_collection.find(age_query)"
   ]
  },
  {
   "cell_type": "code",
   "execution_count": null,
   "metadata": {
    "id": "Anfe0zdiCCns"
   },
   "outputs": [],
   "source": [
    "for e in result:\n",
    "    pprint.pprint(e)"
   ]
  },
  {
   "cell_type": "markdown",
   "metadata": {
    "id": "MZwFedwCv_7S"
   },
   "source": [
    "We can also choose to only output information that we need, through selecting columns"
   ]
  },
  {
   "cell_type": "code",
   "execution_count": null,
   "metadata": {
    "id": "MNkci9Fwv_Fv"
   },
   "outputs": [],
   "source": [
    "for e in result:\n",
    "    pprint.pprint(e['first_name'])"
   ]
  },
  {
   "cell_type": "markdown",
   "metadata": {
    "id": "25z0FkE8w7FV"
   },
   "source": [
    "For these test databases, it is good practice to delete once you are done, so you do not take up space on your computer"
   ]
  },
  {
   "cell_type": "code",
   "execution_count": null,
   "metadata": {
    "id": "w1EooPvvCCnt"
   },
   "outputs": [],
   "source": [
    "employee_collection.delete_many({})"
   ]
  }
 ],
 "metadata": {
  "colab": {
   "provenance": []
  },
  "kernelspec": {
   "display_name": "Python 3 (ipykernel)",
   "language": "python",
   "name": "python3"
  },
  "language_info": {
   "codemirror_mode": {
    "name": "ipython",
    "version": 3
   },
   "file_extension": ".py",
   "mimetype": "text/x-python",
   "name": "python",
   "nbconvert_exporter": "python",
   "pygments_lexer": "ipython3",
   "version": "3.10.9"
  }
 },
 "nbformat": 4,
 "nbformat_minor": 4
}
