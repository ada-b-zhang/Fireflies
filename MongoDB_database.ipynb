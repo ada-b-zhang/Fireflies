{
 "cells": [
  {
   "cell_type": "code",
   "execution_count": 76,
   "id": "fe809505-dbd8-4c95-aadf-3696863e9630",
   "metadata": {},
   "outputs": [
    {
     "name": "stdout",
     "output_type": "stream",
     "text": [
      "Requirement already satisfied: pymongo in c:\\users\\dabria\\anaconda3\\lib\\site-packages (4.3.3)\n",
      "Requirement already satisfied: dnspython<3.0.0,>=1.16.0 in c:\\users\\dabria\\anaconda3\\lib\\site-packages (from pymongo) (2.3.0)\n",
      "Note: you may need to restart the kernel to use updated packages.\n"
     ]
    }
   ],
   "source": [
    "pip install pymongo"
   ]
  },
  {
   "cell_type": "code",
   "execution_count": 77,
   "id": "937ea3ff-0a06-4c58-8b96-9c67d15606b2",
   "metadata": {},
   "outputs": [],
   "source": [
    "import pymongo\n",
    "from pymongo import MongoClient\n",
    "import pandas as pd\n",
    "import pprint"
   ]
  },
  {
   "cell_type": "code",
   "execution_count": 78,
   "id": "2392c358-1520-42de-92c9-ca00a853d398",
   "metadata": {},
   "outputs": [],
   "source": [
    "client = MongoClient('localhost', 27017)"
   ]
  },
  {
   "cell_type": "code",
   "execution_count": 79,
   "id": "b1147611-9eff-4e17-9c57-4933e75f30a8",
   "metadata": {},
   "outputs": [
    {
     "data": {
      "text/plain": [
       "MongoClient(host=['localhost:27017'], document_class=dict, tz_aware=False, connect=True)"
      ]
     },
     "execution_count": 79,
     "metadata": {},
     "output_type": "execute_result"
    }
   ],
   "source": [
    "client"
   ]
  },
  {
   "cell_type": "code",
   "execution_count": 80,
   "id": "177c5bda-497d-4bc4-8e24-7a7d85468c96",
   "metadata": {},
   "outputs": [],
   "source": [
    "#db = client.example"
   ]
  },
  {
   "cell_type": "code",
   "execution_count": 81,
   "id": "2ae1fcab-6992-4d18-9c82-4e2e9353e56a",
   "metadata": {
    "tags": []
   },
   "outputs": [],
   "source": [
    "db = client['Book_library']"
   ]
  },
  {
   "cell_type": "code",
   "execution_count": 82,
   "id": "59c6b27c-1ff0-4599-9239-8c9bf88bc972",
   "metadata": {},
   "outputs": [
    {
     "data": {
      "text/plain": [
       "<pymongo.results.UpdateResult at 0x1b0dc6bca30>"
      ]
     },
     "execution_count": 82,
     "metadata": {},
     "output_type": "execute_result"
    }
   ],
   "source": [
    "collection_book = db['Book_library']\n",
    "collection_author = db['Author_library']\n",
    "collection_patron = db['Patron_library']\n",
    "collection_loan = db['Loan_library']\n",
    "collection_loan.update_many({}, {'$set': {'due_date': None, 'fine': 0}})"
   ]
  },
  {
   "cell_type": "code",
   "execution_count": 83,
   "id": "9155606a-6155-49c8-801e-c543f688826f",
   "metadata": {},
   "outputs": [],
   "source": [
    "find_book = collection_book.find({\"Genre\": \"Novel\"})"
   ]
  },
  {
   "cell_type": "code",
   "execution_count": 84,
   "id": "c1eab5c8-0426-452e-8bda-f89c567acf7d",
   "metadata": {},
   "outputs": [
    {
     "name": "stdout",
     "output_type": "stream",
     "text": [
      "{\"Author's First Name\": 'Sandra',\n",
      " \"Author's Last Name\": 'Cisneros',\n",
      " 'Book_ID (Primary Key)': 41,\n",
      " 'Genre': 'Novel',\n",
      " 'ISBN-10': '1432865056',\n",
      " 'Lexile': '870',\n",
      " 'Pages': 110,\n",
      " 'Publisher': 'Vintage Books',\n",
      " 'Rating': '3.7',\n",
      " 'Title': 'The House on Mango Street',\n",
      " 'Year': 1983,\n",
      " '_id': ObjectId('647791dd5921ff0ef260bff0')}\n",
      "{\"Author's First Name\": 'Sandra',\n",
      " \"Author's Last Name\": 'Cisneros',\n",
      " 'Book_ID (Primary Key)': 42,\n",
      " 'Genre': 'Novel',\n",
      " 'ISBN-10': '1432865056',\n",
      " 'Lexile': '870',\n",
      " 'Pages': 110,\n",
      " 'Publisher': 'Vintage Books',\n",
      " 'Rating': '3.7',\n",
      " 'Title': 'The House on Mango Street',\n",
      " 'Year': 1983,\n",
      " '_id': ObjectId('647791dd5921ff0ef260bff1')}\n",
      "{\"Author's First Name\": 'Jane',\n",
      " \"Author's Last Name\": 'Austen',\n",
      " 'Book_ID (Primary Key)': 46,\n",
      " 'Genre': 'Novel',\n",
      " 'ISBN-10': '1947215132',\n",
      " 'Lexile': '1190',\n",
      " 'Pages': 273,\n",
      " 'Publisher': 'T.Egerton',\n",
      " 'Rating': '4.7',\n",
      " 'Title': 'Pride and Prejudice',\n",
      " 'Year': 1813,\n",
      " '_id': ObjectId('647791dd5921ff0ef260bff5')}\n",
      "{\"Author's First Name\": 'Harper',\n",
      " \"Author's Last Name\": 'Lee',\n",
      " 'Book_ID (Primary Key)': 47,\n",
      " 'Genre': 'Novel',\n",
      " 'ISBN-10': '812416805',\n",
      " 'Lexile': '790',\n",
      " 'Pages': 281,\n",
      " 'Publisher': 'J.B.Lippincott & Co.',\n",
      " 'Rating': '4.7',\n",
      " 'Title': 'To Kill a Mockingbird',\n",
      " 'Year': 1960,\n",
      " '_id': ObjectId('647791dd5921ff0ef260bff6')}\n",
      "{\"Author's First Name\": 'Harper',\n",
      " \"Author's Last Name\": 'Lee',\n",
      " 'Book_ID (Primary Key)': 48,\n",
      " 'Genre': 'Novel',\n",
      " 'ISBN-10': '812416805',\n",
      " 'Lexile': '790',\n",
      " 'Pages': 281,\n",
      " 'Publisher': 'J.B.Lippincott & Co.',\n",
      " 'Rating': '4.7',\n",
      " 'Title': 'To Kill a Mockingbird',\n",
      " 'Year': 1960,\n",
      " '_id': ObjectId('647791dd5921ff0ef260bff7')}\n"
     ]
    }
   ],
   "source": [
    "for i in find_book:\n",
    "    pprint.pprint(i)"
   ]
  },
  {
   "cell_type": "code",
   "execution_count": 85,
   "id": "7a96ca00-684a-4df1-a34b-136954b2af0a",
   "metadata": {},
   "outputs": [],
   "source": [
    "find_loan = collection_loan.find()\n",
    "for i in find_loan:\n",
    "    pprint.pprint(i) "
   ]
  },
  {
   "cell_type": "code",
   "execution_count": 86,
   "id": "6f1cbc02-06e6-4d16-b036-977d9ea4521f",
   "metadata": {},
   "outputs": [],
   "source": [
    "find_patron = collection_patron.find()\n",
    "for i in find_patron:\n",
    "    pprint.pprint(i)"
   ]
  },
  {
   "cell_type": "code",
   "execution_count": 87,
   "id": "9d248ba9-ed8f-4a8c-b462-50e3308e2169",
   "metadata": {},
   "outputs": [
    {
     "name": "stdout",
     "output_type": "stream",
     "text": [
      "{\"Author's First Name\": 'Harper',\n",
      " \"Author's Last Name\": 'Lee',\n",
      " 'Book_ID (Primary Key)': 47,\n",
      " 'Genre': 'Novel',\n",
      " 'ISBN-10': '812416805',\n",
      " 'Lexile': '790',\n",
      " 'Pages': 281,\n",
      " 'Publisher': 'J.B.Lippincott & Co.',\n",
      " 'Rating': '4.7',\n",
      " 'Title': 'To Kill a Mockingbird',\n",
      " 'Year': 1960,\n",
      " '_id': ObjectId('647791dd5921ff0ef260bff6')}\n",
      "{\"Author's First Name\": 'Jane',\n",
      " \"Author's Last Name\": 'Austen',\n",
      " 'Book_ID (Primary Key)': 46,\n",
      " 'Genre': 'Novel',\n",
      " 'ISBN-10': '1947215132',\n",
      " 'Lexile': '1190',\n",
      " 'Pages': 273,\n",
      " 'Publisher': 'T.Egerton',\n",
      " 'Rating': '4.7',\n",
      " 'Title': 'Pride and Prejudice',\n",
      " 'Year': 1813,\n",
      " '_id': ObjectId('647791dd5921ff0ef260bff5')}\n",
      "{\"Author's First Name\": 'Harper',\n",
      " \"Author's Last Name\": 'Lee',\n",
      " 'Book_ID (Primary Key)': 48,\n",
      " 'Genre': 'Novel',\n",
      " 'ISBN-10': '812416805',\n",
      " 'Lexile': '790',\n",
      " 'Pages': 281,\n",
      " 'Publisher': 'J.B.Lippincott & Co.',\n",
      " 'Rating': '4.7',\n",
      " 'Title': 'To Kill a Mockingbird',\n",
      " 'Year': 1960,\n",
      " '_id': ObjectId('647791dd5921ff0ef260bff7')}\n",
      "{\"Author's First Name\": 'Joanne',\n",
      " \"Author's Last Name\": 'Rowling',\n",
      " 'Book_ID (Primary Key)': 13,\n",
      " 'Genre': 'Fantasy',\n",
      " 'ISBN-10': '0545139708',\n",
      " 'Lexile': '880',\n",
      " 'Pages': 607,\n",
      " 'Publisher': 'Bloomsbury',\n",
      " 'Rating': '4.62',\n",
      " 'Title': 'Harry Potter and the Deathly Hallows',\n",
      " 'Year': 2007,\n",
      " '_id': ObjectId('647791dd5921ff0ef260bfd4')}\n",
      "{\"Author's First Name\": 'Joanne',\n",
      " \"Author's Last Name\": 'Rowling',\n",
      " 'Book_ID (Primary Key)': 6,\n",
      " 'Genre': 'Fantasy',\n",
      " 'ISBN-10': '545582938',\n",
      " 'Lexile': '880',\n",
      " 'Pages': 317,\n",
      " 'Publisher': 'Bloomsbury',\n",
      " 'Rating': '4.6',\n",
      " 'Title': 'Harry Potter and the Prisoner of Azkaban',\n",
      " 'Year': 1999,\n",
      " '_id': ObjectId('647791dd5921ff0ef260bfcd')}\n"
     ]
    }
   ],
   "source": [
    "find_book = collection_book.find().sort(\"Rating\", pymongo.DESCENDING).limit(5)\n",
    "for i in find_book:\n",
    "    pprint.pprint(i)"
   ]
  },
  {
   "cell_type": "code",
   "execution_count": 88,
   "id": "5d01f2f6-255f-477c-9f75-d13adf93afa8",
   "metadata": {},
   "outputs": [
    {
     "name": "stdout",
     "output_type": "stream",
     "text": [
      "{\"Author's First Name\": 'Nathaniel',\n",
      " \"Author's Last Name\": 'Hawthorne',\n",
      " 'Book_ID (Primary Key)': 21,\n",
      " 'Genre': 'Historical fiction',\n",
      " 'ISBN-10': '451531353',\n",
      " 'Lexile': '1340',\n",
      " 'Pages': 272,\n",
      " 'Publisher': 'Ticknor and Fields',\n",
      " 'Rating': '3.4',\n",
      " 'Title': 'The Scarlet Letter',\n",
      " 'Year': 1850,\n",
      " '_id': ObjectId('647791dd5921ff0ef260bfdc')}\n",
      "{\"Author's First Name\": 'Nathaniel',\n",
      " \"Author's Last Name\": 'Hawthorne',\n",
      " 'Book_ID (Primary Key)': 20,\n",
      " 'Genre': 'Historical fiction',\n",
      " 'ISBN-10': '451531353',\n",
      " 'Lexile': '1340',\n",
      " 'Pages': 272,\n",
      " 'Publisher': 'Ticknor and Fields',\n",
      " 'Rating': '3.4',\n",
      " 'Title': 'The Scarlet Letter',\n",
      " 'Year': 1850,\n",
      " '_id': ObjectId('647791dd5921ff0ef260bfdb')}\n",
      "{\"Author's First Name\": 'Nathaniel',\n",
      " \"Author's Last Name\": 'Hawthorne',\n",
      " 'Book_ID (Primary Key)': 19,\n",
      " 'Genre': 'Historical fiction',\n",
      " 'ISBN-10': '451531353',\n",
      " 'Lexile': '1340',\n",
      " 'Pages': 272,\n",
      " 'Publisher': 'Ticknor and Fields',\n",
      " 'Rating': '3.4',\n",
      " 'Title': 'The Scarlet Letter',\n",
      " 'Year': 1850,\n",
      " '_id': ObjectId('647791dd5921ff0ef260bfda')}\n",
      "{\"Author's First Name\": 'Sandra',\n",
      " \"Author's Last Name\": 'Cisneros',\n",
      " 'Book_ID (Primary Key)': 42,\n",
      " 'Genre': 'Novel',\n",
      " 'ISBN-10': '1432865056',\n",
      " 'Lexile': '870',\n",
      " 'Pages': 110,\n",
      " 'Publisher': 'Vintage Books',\n",
      " 'Rating': '3.7',\n",
      " 'Title': 'The House on Mango Street',\n",
      " 'Year': 1983,\n",
      " '_id': ObjectId('647791dd5921ff0ef260bff1')}\n",
      "{\"Author's First Name\": 'Sandra',\n",
      " \"Author's Last Name\": 'Cisneros',\n",
      " 'Book_ID (Primary Key)': 41,\n",
      " 'Genre': 'Novel',\n",
      " 'ISBN-10': '1432865056',\n",
      " 'Lexile': '870',\n",
      " 'Pages': 110,\n",
      " 'Publisher': 'Vintage Books',\n",
      " 'Rating': '3.7',\n",
      " 'Title': 'The House on Mango Street',\n",
      " 'Year': 1983,\n",
      " '_id': ObjectId('647791dd5921ff0ef260bff0')}\n"
     ]
    }
   ],
   "source": [
    "find_book = collection_book.find().sort(\"Rating\", pymongo.ASCENDING).limit(5)\n",
    "for i in find_book:\n",
    "    pprint.pprint(i)"
   ]
  },
  {
   "cell_type": "code",
   "execution_count": 92,
   "id": "e267eee1-01d4-4eb9-90b5-397e2ecdffe7",
   "metadata": {},
   "outputs": [],
   "source": [
    "find_loan = collection_loan.find()\n",
    "for i in find_loan:\n",
    "    pprint.pprint(i['Book Title'] + \": \" + i['Due_Date'])"
   ]
  },
  {
   "cell_type": "code",
   "execution_count": 91,
   "id": "52491588-98f2-40ac-8dbb-23a0991eed42",
   "metadata": {},
   "outputs": [],
   "source": [
    "find_loan = collection_loan.find()\n",
    "for i in find_loan:\n",
    "    pprint.pprint(\"Title: \" + i['Book Title'] + \", Due_Date: \" + i['Due_Date']+\", Fine: \"+ str(i['fine']))"
   ]
  },
  {
   "cell_type": "code",
   "execution_count": null,
   "id": "08302842-e4b9-47dc-b323-b7f03cc703b1",
   "metadata": {},
   "outputs": [],
   "source": []
  }
 ],
 "metadata": {
  "kernelspec": {
   "display_name": "Python 3 (ipykernel)",
   "language": "python",
   "name": "python3"
  },
  "language_info": {
   "codemirror_mode": {
    "name": "ipython",
    "version": 3
   },
   "file_extension": ".py",
   "mimetype": "text/x-python",
   "name": "python",
   "nbconvert_exporter": "python",
   "pygments_lexer": "ipython3",
   "version": "3.10.9"
  }
 },
 "nbformat": 4,
 "nbformat_minor": 5
}
